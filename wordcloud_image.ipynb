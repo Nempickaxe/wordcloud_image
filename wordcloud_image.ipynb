{
 "cells": [
  {
   "cell_type": "code",
   "execution_count": 113,
   "metadata": {},
   "outputs": [],
   "source": [
    "import sys\n",
    "import re\n",
    "import numpy as np\n",
    "import pandas as pd\n",
    "import matplotlib.pyplot as plt\n",
    "import seaborn as sns\n",
    "from wordcloud import WordCloud, STOPWORDS, ImageColorGenerator\n",
    "import emoji\n",
    "from collections import Counter\n",
    "import PIL"
   ]
  },
  {
   "cell_type": "code",
   "execution_count": 40,
   "metadata": {},
   "outputs": [],
   "source": [
    "def rawToDf(file):\n",
    "    with open(file, 'r',encoding='utf8') as raw_data:\n",
    "        raw_string = ' '.join(raw_data.read().split('\\n')) # converting the list split by newline char. as one whole string as there can be multi-line messages\n",
    "        user_msg = re.split('\\d{1,2}/\\d{1,2}/\\d{2,4}, \\d:\\d{2} .{2} - ', raw_string) [1:] # splits at all the date-time pattern, resulting in list of all the messages with user names\n",
    "        date_time = re.findall('\\d{1,2}/\\d{1,2}/\\d{2,4}, \\d:\\d{2} .{2} - ', raw_string) # finds all the date-time patterns\n",
    "        \n",
    "        df = pd.DataFrame({'date_time': date_time, 'user_msg': user_msg}) # exporting it to a df\n",
    "    # converting date-time pattern which is of type String to type datetime, format is to be specified for the whole string where the placeholders are extracted by the method    \n",
    "    try:\n",
    "        df['date_time'] = df['date_time'].apply(lambda x: dateparser.parse(x))\n",
    "    except:\n",
    "        print(\"oo\")\n",
    "        try:\n",
    "            df['date_time'] = pd.to_datetime(df['date_time'].str.strip(' -'), format='%m/%d/%y, %H:%M %p') #10/20/19, 10:24 pm - \n",
    "        except:\n",
    "            df['date_time'] = pd.to_datetime(df['date_time'].str.strip(' -'), format='%d/%m/%y, %H:%M %p') #20/10/2019, 10:24 pm -\n",
    "    \n",
    "    # split user and msg \n",
    "    usernames = []\n",
    "    msgs = []\n",
    "    for i in df['user_msg']:\n",
    "        a = re.split('([\\w\\W]+?):\\s', i) # lazy pattern match to first {user_name}: pattern and spliting it aka each msg from a user\n",
    "        if(a[1:]): # user typed messages\n",
    "            usernames.append(a[1])\n",
    "            msgs.append(a[2])\n",
    "        else: # other notifications in the group(eg: someone was added, some left ...)\n",
    "            usernames.append(\"grp_notif\")\n",
    "            msgs.append(a[0])\n",
    "\n",
    "    # creating new columns         \n",
    "\n",
    "    df['user'] = usernames\n",
    "    df['msg'] = msgs\n",
    "\n",
    "    # dropping the old user_msg col.\n",
    "    df.drop('user_msg', axis=1, inplace=True)\n",
    "    \n",
    "    return df"
   ]
  },
  {
   "cell_type": "code",
   "execution_count": 95,
   "metadata": {},
   "outputs": [],
   "source": [
    "def clean_df(df):\n",
    "    grp_notif = df[df['user']==\"grp_notif\"] #no. of grp notifications\n",
    "    images = df[df['msg']==\"<Media omitted> \"] #no. of images, images are represented by <media omitted>\n",
    "    df.drop(images.index, inplace=True) #removing images\n",
    "    df.drop(grp_notif.index, inplace=True) #removing grp_notif\n",
    "    return df"
   ]
  },
  {
   "cell_type": "code",
   "execution_count": 115,
   "metadata": {},
   "outputs": [],
   "source": [
    "def create_user_wordcloud(messages, image_path, user, save_path):\n",
    "    char_mask = np.array(PIL.Image.open(image_path))    \n",
    "    char_mask[char_mask == 0] = 255 #convert no background to white\n",
    "    image_colors = ImageColorGenerator(char_mask)\n",
    "    \n",
    "    if user:\n",
    "        filter_messages = messages.loc[messages['user']==user]['msg']\n",
    "    else:\n",
    "        filter_messages = messages.copy()\n",
    "    filter_messages = filter_messages.str.lower().str.split()\n",
    "    comment_words = ' '.join(filter_messages.apply(lambda x: ' '.join(x)).tolist())\n",
    "    \n",
    "    wc = WordCloud(background_color=\"white\", max_words=300, width=800, height=800, mask=char_mask, random_state=1).generate(comment_words)\n",
    "    # to recolour the image\n",
    "    pil_wc = wc.recolor(color_func=image_colors)\n",
    "    plt.imshow(pil_wc, interpolation=\"bilinear\")\n",
    "    pil_wc.to_file(save_path)\n",
    "    \n",
    "    layer1 = PIL.Image.open(save_path)\n",
    "    layer2 = PIL.Image.open(image_path)\n",
    "    blended = PIL.Image.blend(layer2, layer1, alpha=0.7)\n",
    "    blended.save(save_path.split('.')[0]+\"_blended.png\")\n",
    "    return pil_wc"
   ]
  },
  {
   "cell_type": "code",
   "execution_count": 116,
   "metadata": {},
   "outputs": [],
   "source": [
    "def create_wordcloud_user_whatsapp(file, image_path, user, save_path):\n",
    "    df = rawToDf(file)\n",
    "    messages = clean_df(df)\n",
    "    pillow_wc = create_user_wordcloud(messages, image_path, user, save_path)\n",
    "    return pillow_wc"
   ]
  }
 ],
 "metadata": {
  "kernelspec": {
   "display_name": "Python 3",
   "language": "python",
   "name": "python3"
  },
  "language_info": {
   "codemirror_mode": {
    "name": "ipython",
    "version": 3
   },
   "file_extension": ".py",
   "mimetype": "text/x-python",
   "name": "python",
   "nbconvert_exporter": "python",
   "pygments_lexer": "ipython3",
   "version": "3.7.3"
  }
 },
 "nbformat": 4,
 "nbformat_minor": 4
}
